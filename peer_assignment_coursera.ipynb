{
  "metadata": {
    "kernelspec": {
      "name": "python",
      "display_name": "Python (Pyodide)",
      "language": "python"
    },
    "language_info": {
      "codemirror_mode": {
        "name": "python",
        "version": 3
      },
      "file_extension": ".py",
      "mimetype": "text/x-python",
      "name": "python",
      "nbconvert_exporter": "python",
      "pygments_lexer": "ipython3",
      "version": "3.8"
    }
  },
  "nbformat_minor": 4,
  "nbformat": 4,
  "cells": [
    {
      "cell_type": "markdown",
      "source": "# My Final JupyterLite Notebook",
      "metadata": {}
    },
    {
      "cell_type": "markdown",
      "source": "This notebook demonstrates my understanding of data science tools and techniques.\n",
      "metadata": {}
    },
    {
      "cell_type": "markdown",
      "source": "## Data Science Languages\n1. Python  \n2. R  \n3. SQL  \n4. Julia\n",
      "metadata": {}
    },
    {
      "cell_type": "markdown",
      "source": "## Data Science Libraries\n1. Pandas  \n2. NumPy  \n3. Scikit-learn  \n4. TensorFlow  \n5. ggplot2\n",
      "metadata": {}
    },
    {
      "cell_type": "markdown",
      "source": "## Data Science Tools\n| Tool           | Description                         |  \n|----------------|-------------------------------------|  \n| JupyterLite    | Interactive coding environment     |  \n| RStudio        | IDE for R language                 |  \n| Apache Spark   | Distributed computing framework    |  \n",
      "metadata": {}
    },
    {
      "cell_type": "markdown",
      "source": "## Examples of Arithmetic Expressions  \nBelow are some examples of basic arithmetic operations.  \n",
      "metadata": {}
    },
    {
      "cell_type": "code",
      "source": "# Example of addition and multiplication\nresult = (8 * 4) + 7\nresult\n",
      "metadata": {
        "trusted": true
      },
      "outputs": [
        {
          "execution_count": 4,
          "output_type": "execute_result",
          "data": {
            "text/plain": "39"
          },
          "metadata": {}
        }
      ],
      "execution_count": 4
    },
    {
      "cell_type": "code",
      "source": "# Convert minutes to hours\nminutes = 120\nhours = minutes / 60\nhours\n",
      "metadata": {
        "trusted": true
      },
      "outputs": [
        {
          "execution_count": 5,
          "output_type": "execute_result",
          "data": {
            "text/plain": "2.0"
          },
          "metadata": {}
        }
      ],
      "execution_count": 5
    },
    {
      "cell_type": "markdown",
      "source": "## Objectives  \n- Learn Markdown syntax  \n- Understand Data Science languages and libraries  \n- Practice basic arithmetic in Python  \n",
      "metadata": {}
    },
    {
      "cell_type": "markdown",
      "source": "## Author  \nMuhammed Afsal P M  \n",
      "metadata": {}
    }
  ]
}